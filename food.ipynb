{
 "cells": [
  {
   "cell_type": "code",
   "execution_count": null,
   "id": "8099ed13",
   "metadata": {},
   "outputs": [],
   "source": [
    "from datasets import load_dataset\n",
    "\n",
    "food = load_dataset(\"data\")"
   ]
  },
  {
   "cell_type": "code",
   "execution_count": null,
   "id": "671905f4",
   "metadata": {},
   "outputs": [],
   "source": [
    "labels = food['train'].features['label'].names\n",
    "label2id, id2label = dict(), dict()\n",
    "\n",
    "for i, label in enumerate(labels):\n",
    "    label2id[label] = i\n",
    "    id2label[i] = label\n",
    "\n",
    "print(label2id)\n",
    "print(id2label)"
   ]
  },
  {
   "cell_type": "code",
   "execution_count": null,
   "id": "7191c539",
   "metadata": {},
   "outputs": [],
   "source": [
    "from transformers import AutoImageProcessor \n",
    "\n",
    "model_ckpt = \"data\"\n",
    "image_processor = AutoImageProcessor.from_pretrained(model_ckpt, use_fast=True)"
   ]
  },
  {
   "cell_type": "code",
   "execution_count": null,
   "id": "d06587bc",
   "metadata": {},
   "outputs": [],
   "source": [
    "from torchvision.transforms import RandomResizedCrop, Compose, Normalize, ToTensor\n",
    "\n",
    "normalize = Normalize(mean=image_processor.image_mean, std=image_processor.image_std)\n",
    "\n",
    "size = (\n",
    "    image_processor.size['shorted_edge']\n",
    "    if \"shorted_edge\" in image_processor.size\n",
    "    else (image_processor.size['height'], image_processor.size['width'])\n",
    ")\n",
    "\n",
    "\n",
    "_transforms = Compose([RandomResizedCrop(size), ToTensor(), normalize]) \n",
    "\n",
    "def transforms(examples):\n",
    "    examples['pixel_values'] = [_transforms(img.convert('RGB')) for img in examples['image']] \n",
    "    del examples['image']\n",
    "\n",
    "    return examples"
   ]
  },
  {
   "cell_type": "code",
   "execution_count": null,
   "id": "71b2d876",
   "metadata": {},
   "outputs": [],
   "source": [
    "food = food.with_transform(transforms) "
   ]
  },
  {
   "cell_type": "code",
   "execution_count": null,
   "id": "4152ed60",
   "metadata": {},
   "outputs": [],
   "source": [
    "import evaluate\n",
    "import numpy as np\n",
    "\n",
    "accuracy = evaluate.load('accuracy')\n",
    "\n",
    "def compute_metrics(eval_pred):\n",
    "    predictions, labels = eval_pred\n",
    "    predictions = np.argmax(predictions, axis=1)\n",
    "\n",
    "    return accuracy.compute(predictions=predictions, references=labels)\n"
   ]
  },
  {
   "cell_type": "code",
   "execution_count": null,
   "id": "90894e9e",
   "metadata": {},
   "outputs": [],
   "source": [
    "from transformers import AutoModelForImageClassification, TrainingArguments, Trainer\n",
    "import torch\n",
    "\n",
    "device = torch.device(\"cuda\" if torch.cuda.is_available() else \"cpu\")\n",
    "\n",
    "model = AutoModelForImageClassification.from_pretrained(\n",
    "    model_ckpt,\n",
    "    num_labels = len(labels),\n",
    "    id2label=id2label,\n",
    "    label2id=label2id\n",
    ").to(device)"
   ]
  },
  {
   "cell_type": "code",
   "execution_count": null,
   "id": "eb3c8f7d",
   "metadata": {},
   "outputs": [],
   "source": [
    "args = TrainingArguments(\n",
    "    output_dir = \"train_dir\",\n",
    "    remove_unused_columns=False,\n",
    "    eval_strategy=\"epoch\",\n",
    "    save_strategy=\"epoch\",\n",
    "    learning_rate=5e-5,\n",
    "    per_device_train_batch_size=16,\n",
    "    per_device_eval_batch_size=16,\n",
    "    gradient_accumulation_steps=4,\n",
    "    num_train_epochs=2,\n",
    "    load_best_model_at_end=True,\n",
    "    metric_for_best_model='accuracy'\n",
    ")\n",
    "\n",
    "trainer = Trainer(\n",
    "    model=model,\n",
    "    args=args,\n",
    "    train_dataset=food['train'],\n",
    "    eval_dataset=food['test'],\n",
    "    tokenizer=image_processor,\n",
    "    compute_metrics=compute_metrics\n",
    ")\n",
    "\n",
    "trainer.train()"
   ]
  },
  {
   "cell_type": "code",
   "execution_count": null,
   "id": "6813f1e3",
   "metadata": {},
   "outputs": [],
   "source": [
    "trainer.save_model('food_classification')"
   ]
  },
  {
   "cell_type": "code",
   "execution_count": null,
   "id": "fe282aa8",
   "metadata": {},
   "outputs": [],
   "source": [
    "from transformers import pipeline\n",
    "\n",
    "pipe = pipeline(\"image-classification\", model='food_classification', device=device)"
   ]
  },
  {
   "cell_type": "code",
   "execution_count": null,
   "id": "63754fc4",
   "metadata": {},
   "outputs": [],
   "source": [
    "from PIL import Image\n",
    "\n",
    "image = Image.open('1.jpg')\n",
    "pipe(image)"
   ]
  }
 ],
 "metadata": {
  "kernelspec": {
   "display_name": ".venv",
   "language": "python",
   "name": "python3"
  },
  "language_info": {
   "codemirror_mode": {
    "name": "ipython",
    "version": 3
   },
   "file_extension": ".py",
   "mimetype": "text/x-python",
   "name": "python",
   "nbconvert_exporter": "python",
   "pygments_lexer": "ipython3",
   "version": "3.12.8"
  }
 },
 "nbformat": 4,
 "nbformat_minor": 5
}
